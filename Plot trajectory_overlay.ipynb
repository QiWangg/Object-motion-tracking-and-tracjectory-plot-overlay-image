{
 "cells": [
  {
   "cell_type": "markdown",
   "id": "cf3465aa-c403-4491-874a-f8293d60e06f",
   "metadata": {},
   "source": [
    "Video recorded with Nikon Ti-2 Inverted Microscope, with 40X (0.75 NA) objective. \n",
    "Video pixel size: 3.6364 pixel/µm; frame rate 30 fps. Video saved in .nd2 form.\n",
    "Trajectory of micromotors were analysized by FIJI Imagej.\n",
    "\n",
    "Analysis protocol: \n",
    "1- Open .nd2 file. \n",
    "2- Set thershold \n",
    "3- Plugins -> Tracking -> Trackmate. \n",
    "4- Select a detector: LoG detector. \n",
    "5- Estimated object diameter: Set as the size of micromotors (5 µm for RBC micromotors). Quality threshold: Set as slightly smaller than Estimated object diameter (4 µm for this project).\n",
    "6- Set filter on spots: Keep default settings (Can be changed as needed).\n",
    "7- Select a tracker: Simple LAP tracjer. Linking mas distance: same as Estimated object diameter (5 µm for this project); Gap-closing max distance: Set as slightly larger than Estimated object diameter (6 µm for this project).\n",
    "8- Set filters on tracks: set as needed.\n",
    "9- Tracks. Expert tracking data to .csv file. ('TRACKING DATA.csv')\n"
   ]
  },
  {
   "cell_type": "code",
   "execution_count": null,
   "id": "e92a34a6-c56d-4cd4-a0a9-9a2fa3dd52b7",
   "metadata": {},
   "outputs": [],
   "source": [
    "\n",
    "# Plot trajectory of gradient colors and overlay on the overlaid figure\n",
    "\n",
    "import pandas as pd\n",
    "import matplotlib.pyplot as plt\n",
    "from matplotlib import cm\n",
    "from PIL import Image\n",
    "\n",
    "# Load CSV file, path and file name\n",
    "data = pd.read_csv('/PATH OF TRAKING DATA/TRACKING DATA.csv')\n",
    "\n",
    "# Load background image, path and file name\n",
    "background_image = Image.open('/PATH OF MICROMOTOR MOTION IMAGE/MICROMOTOR IMAGE.jpg')\n",
    "\n",
    "# Calculate pixel size per micron\n",
    "pixel_size = 3.6364\n",
    "\n",
    "from matplotlib import cm\n",
    "# Set colors for time frames\n",
    "data['color'] = data['FRAME'] / data['FRAME'].max()\n",
    "\n",
    "data['POSITION_Y'] = background_image.height / pixel_size - data['POSITION_Y']\n",
    "\n",
    "# Plot trajectory\n",
    "plt.figure(figsize=(10,8))\n",
    "plt.imshow(background_image, extent=[0, background_image.width/pixel_size, 0, background_image.height/pixel_size])\n",
    "scatter= plt.scatter(data['POSITION_X'], data['POSITION_Y'], c=data['color'], s=5, cmap='jet')\n",
    "#colorbar = plt.colorbar(scatter)\n",
    "colorbar = plt.colorbar(label='TIME', shrink=0.5,ticks=[0, 1])\n",
    "colorbar.ax.tick_params(labelsize=12)  # Adjust color bar font size\n",
    "colorbar.set_ticklabels(['T$_i$', 'T$_f$'])  # Set tick labels\n",
    "plt.xlabel('X (µm)', fontsize=14,fontname='Times New Roman')  # Adjust x-axis label font size\n",
    "plt.ylabel('Y (µm)', fontsize=14,fontname='Times New Roman')  # Adjust y-axis label font size\n",
    "plt.title('RBC achiral micromotor localized delivery-rolling',fontsize=14,fontname='Times New Roman')\n",
    "plt.xlim(0, background_image.width/pixel_size)\n",
    "plt.ylim(background_image.height/pixel_size, 0)  # Invert y-axis limits\n",
    "plt.gca().invert_yaxis()  # Invert y-axis to match image \n",
    "plt.savefig('/PATH OF OUTPUT/OUTPUT IMAGE.jpg', dpi=300)  # Export figure as JPEG with high quality\n",
    "plt.show()"
   ]
  }
 ],
 "metadata": {
  "kernelspec": {
   "display_name": "Python 3 (ipykernel)",
   "language": "python",
   "name": "python3"
  },
  "language_info": {
   "codemirror_mode": {
    "name": "ipython",
    "version": 3
   },
   "file_extension": ".py",
   "mimetype": "text/x-python",
   "name": "python",
   "nbconvert_exporter": "python",
   "pygments_lexer": "ipython3",
   "version": "3.12.0"
  }
 },
 "nbformat": 4,
 "nbformat_minor": 5
}
